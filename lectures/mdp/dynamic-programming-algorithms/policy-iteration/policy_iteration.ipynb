{
  "cells": [
    {
      "cell_type": "markdown",
      "metadata": {
        "id": "b-7M8MEHOeJf"
      },
      "source": [
        "# Policy Iteration"
      ]
    },
    {
      "cell_type": "code",
      "execution_count": 1,
      "metadata": {
        "colab": {
          "base_uri": "https://localhost:8080/"
        },
        "id": "uVs5u1BIQs4h",
        "outputId": "fb688938-ecc1-4a46-bfe8-0bd6d3b72242"
      },
      "outputs": [
        {
          "name": "stdout",
          "output_type": "stream",
          "text": [
            "Cloning into 'reinforcement_learning'...\n",
            "remote: Enumerating objects: 1290, done.\u001b[K\n",
            "remote: Counting objects: 100% (16/16), done.\u001b[K\n",
            "remote: Compressing objects: 100% (12/12), done.\u001b[K\n",
            "remote: Total 1290 (delta 5), reused 10 (delta 4), pack-reused 1274\u001b[K\n",
            "Receiving objects: 100% (1290/1290), 5.25 MiB | 41.05 MiB/s, done.\n",
            "Resolving deltas: 100% (826/826), done.\n"
          ]
        }
      ],
      "source": [
        "# Uncomment to run the code locally \n",
        "# !git clone https://github.com/dennybritz/reinforcement-learning.git reinforcement_learning\n"
      ]
    },
    {
      "cell_type": "code",
      "execution_count": 2,
      "metadata": {
        "colab": {
          "base_uri": "https://localhost:8080/"
        },
        "id": "GyYbgPqUOdXW",
        "outputId": "0a50d8fa-fea3-4561-fc35-9371a9b8c757"
      },
      "outputs": [
        {
          "name": "stdout",
          "output_type": "stream",
          "text": [
            "[  0.         -13.99989315 -19.99984167 -21.99982282 -13.99989315\n",
            " -17.99986052 -19.99984273 -19.99984167 -19.99984167 -19.99984273\n",
            " -17.99986052 -13.99989315 -21.99982282 -19.99984167 -13.99989315\n",
            "   0.        ]\n",
            "[  0 -14 -20 -22 -14 -18 -20 -20 -20 -20 -18 -14 -22 -20 -14   0]\n"
          ]
        }
      ],
      "source": [
        "# this code is from https://becomesentient.com/mdp-dynamic-programming/\n",
        "\n",
        "import numpy as np \n",
        "import gym.spaces\n",
        "\n",
        "from reinforcement_learning.lib.envs.gridworld import GridworldEnv\n",
        "\n",
        "env = GridworldEnv()\n",
        "\n",
        "def policy_eval(policy, env, discount_factor=1.0, epsilon=0.00001):\n",
        "    \"\"\"\n",
        "    Evaluate a policy given an environment and a full description of the environment's dynamics.\n",
        "    \n",
        "    Args:\n",
        "        policy: [S, A] shaped matrix representing the policy.\n",
        "        env: OpenAI env. env.P represents the transition probabilities of the environment.\n",
        "            env.P[s][a] is a list of transition tuples (prob, next_state, reward, done).\n",
        "            env.nS is a number of states in the environment. \n",
        "            env.nA is a number of actions in the environment.\n",
        "        theta: We stop evaluation once our value function change is less than theta for all states.\n",
        "        discount_factor: Gamma discount factor.\n",
        "    \n",
        "    Returns:\n",
        "        Vector of length env.nS representing the value function.\n",
        "    \"\"\"\n",
        "    # Start with a random (all 0) value function\n",
        "    V_old = np.zeros(env.nS)\n",
        "\n",
        "    while True:\n",
        "        \n",
        "        #new value function\n",
        "        V_new = np.zeros(env.nS)\n",
        "        #stopping condition\n",
        "        delta = 0\n",
        "\n",
        "        #loop over state space\n",
        "        for s in range(env.nS):\n",
        "\n",
        "            #To accumelate bellman expectation eqn\n",
        "            v_fn = 0\n",
        "            #get probability distribution over actions\n",
        "            action_probs = policy[s]\n",
        "\n",
        "            #loop over possible actions\n",
        "            for a in range(env.nA):\n",
        "\n",
        "                #get transitions\n",
        "                [(prob, next_state, reward, done)] = env.P[s][a]\n",
        "                #apply bellman expectatoin eqn\n",
        "                v_fn += action_probs[a] * (reward + discount_factor * V_old[next_state])\n",
        "\n",
        "            #get the biggest difference over state space\n",
        "            delta = max(delta, abs(v_fn - V_old[s]))\n",
        "\n",
        "            #update state-value\n",
        "            V_new[s] = v_fn\n",
        "\n",
        "        #the new value function\n",
        "        V_old = V_new\n",
        "\n",
        "        #if true value function\n",
        "        if(delta < epsilon):\n",
        "            break\n",
        "\n",
        "    return np.array(V_old)\n",
        "\n",
        "\n",
        "random_policy = np.ones([env.nS, env.nA]) / env.nA\n",
        "v = policy_eval(random_policy, env)\n",
        "\n",
        "expected_v = np.array([0, -14, -20, -22, -14, -18, -20, -20, -20, -20, -18, -14, -22, -20, -14, 0])\n",
        "np.testing.assert_array_almost_equal(v, expected_v, decimal=2)\n",
        "\n",
        "print(v)\n",
        "print(expected_v)"
      ]
    },
    {
      "cell_type": "code",
      "execution_count": 3,
      "metadata": {
        "colab": {
          "base_uri": "https://localhost:8080/"
        },
        "id": "kPXYv16uSqX1",
        "outputId": "64d71315-f8a2-4993-faaf-563c12d34bae"
      },
      "outputs": [
        {
          "name": "stdout",
          "output_type": "stream",
          "text": [
            "Policy Probability Distribution:\n",
            "[[1. 0. 0. 0.]\n",
            " [0. 0. 0. 1.]\n",
            " [0. 0. 0. 1.]\n",
            " [0. 0. 1. 0.]\n",
            " [1. 0. 0. 0.]\n",
            " [1. 0. 0. 0.]\n",
            " [1. 0. 0. 0.]\n",
            " [0. 0. 1. 0.]\n",
            " [1. 0. 0. 0.]\n",
            " [1. 0. 0. 0.]\n",
            " [0. 1. 0. 0.]\n",
            " [0. 0. 1. 0.]\n",
            " [1. 0. 0. 0.]\n",
            " [0. 1. 0. 0.]\n",
            " [0. 1. 0. 0.]\n",
            " [1. 0. 0. 0.]]\n",
            "\n",
            "Reshaped Grid Policy (0=up, 1=right, 2=down, 3=left):\n",
            "[[0 3 3 2]\n",
            " [0 0 0 2]\n",
            " [0 0 1 2]\n",
            " [0 1 1 0]]\n",
            "\n",
            "Value Function:\n",
            "[ 0. -1. -2. -3. -1. -2. -3. -2. -2. -3. -2. -1. -3. -2. -1.  0.]\n",
            "\n",
            "Reshaped Grid Value Function:\n",
            "[[ 0. -1. -2. -3.]\n",
            " [-1. -2. -3. -2.]\n",
            " [-2. -3. -2. -1.]\n",
            " [-3. -2. -1.  0.]]\n",
            "\n"
          ]
        }
      ],
      "source": [
        "import numpy as np\n",
        "import gym.spaces\n",
        "from reinforcement_learning.lib.envs.gridworld import GridworldEnv\n",
        "\n",
        "env = GridworldEnv()\n",
        "\n",
        "def policy_improvement(env, policy_eval_fn=policy_eval, discount_factor=1.0):\n",
        "    \"\"\"\n",
        "    Policy Improvement Algorithm. Iteratively evaluates and improves a policy\n",
        "    until an optimal policy is found.\n",
        "    \n",
        "    Args:\n",
        "        env: The OpenAI envrionment.\n",
        "        policy_eval_fn: Policy Evaluation function that takes 3 arguments:\n",
        "            policy, env, discount_factor.\n",
        "        discount_factor: gamma discount factor.\n",
        "        \n",
        "    Returns:\n",
        "        A tuple (policy, V). \n",
        "        policy is the optimal policy, a matrix of shape [S, A] where each state s\n",
        "        contains a valid probability distribution over actions.\n",
        "        V is the value function for the optimal policy.\n",
        "       \n",
        "    \"\"\"\n",
        "    def one_step_lookahead(s, value_fn):\n",
        "\n",
        "        actions = np.zeros(env.nA)\n",
        "\n",
        "        for a in range(env.nA):\n",
        "\n",
        "            [(prob, next_state, reward, done)] = env.P[s][a]\n",
        "            actions[a] = prob * (reward + discount_factor * value_fn[next_state])\n",
        "            \n",
        "        return actions\n",
        "\n",
        "    # Start with a random policy\n",
        "    policy = np.ones([env.nS, env.nA]) / env.nA\n",
        "    actions_values = np.zeros(env.nA)\n",
        "\n",
        "    while True:\n",
        "\n",
        "        #evaluate the current policy\n",
        "        value_fn = policy_eval_fn(policy, env)\n",
        "       \n",
        "        policy_stable = True\n",
        "\n",
        "        #loop over state space\n",
        "        for s in range(env.nS):\n",
        "\n",
        "            #perform one step lookahead\n",
        "            actions_values = one_step_lookahead(s, value_fn)\n",
        "            \n",
        "        \t#maximize over possible actions \n",
        "            best_action = np.argmax(actions_values)\n",
        "\n",
        "            #best action on current policy\n",
        "            chosen_action = np.argmax(policy[s])\n",
        "\n",
        "    \t\t#if Bellman optimality equation not satisifed\n",
        "            if(best_action != chosen_action):\n",
        "                policy_stable = False\n",
        "\n",
        "            #the new policy after acting greedily w.r.t value function\n",
        "            policy[s] = np.eye(env.nA)[best_action]\n",
        "\n",
        "        #if Bellman optimality eqn is satisfied\n",
        "        if(policy_stable):\n",
        "            return policy, value_fn\n",
        "\n",
        "    \n",
        "    \n",
        "\n",
        "policy, v = policy_improvement(env)\n",
        "print(\"Policy Probability Distribution:\")\n",
        "print(policy)\n",
        "print(\"\")\n",
        "\n",
        "print(\"Reshaped Grid Policy (0=up, 1=right, 2=down, 3=left):\")\n",
        "print(np.reshape(np.argmax(policy, axis=1), env.shape))\n",
        "print(\"\")\n",
        "\n",
        "print(\"Value Function:\")\n",
        "print(v)\n",
        "print(\"\")\n",
        "\n",
        "print(\"Reshaped Grid Value Function:\")\n",
        "print(v.reshape(env.shape))\n",
        "print(\"\")"
      ]
    }
  ],
  "metadata": {
    "colab": {
      "provenance": []
    },
    "kernelspec": {
      "display_name": "Python 3",
      "name": "python3"
    },
    "language_info": {
      "codemirror_mode": {
        "name": "ipython",
        "version": 3
      },
      "file_extension": ".py",
      "mimetype": "text/x-python",
      "name": "python",
      "nbconvert_exporter": "python",
      "pygments_lexer": "ipython3",
      "version": "3.8.10"
    }
  },
  "nbformat": 4,
  "nbformat_minor": 0
}
