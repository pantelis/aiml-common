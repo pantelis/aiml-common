{
 "cells": [
  {
   "cell_type": "markdown",
   "metadata": {},
   "source": [
    "# Cleaning Robot - Deterministic MDP\n",
    "\n",
    "![](images/cleaning-robot-mdp-1.png)\n",
    "![](images/cleaning-robot-mdp-2.png)\n",
    "\n"
   ]
  },
  {
   "cell_type": "markdown",
   "metadata": {},
   "source": [
    "The following code shows the estimation of the q value function for a policy, the optimal q_star and the optimal policy for the cleaning robot problem in the deterministic case. \n"
   ]
  },
  {
   "cell_type": "code",
   "execution_count": null,
   "metadata": {},
   "outputs": [],
   "source": [
    "import numpy as np\n",
    "\n",
    "def deterministic_robot_cleaning_v1():\n",
    "    # Initialization\n",
    "    state = [1, 2, 3, 4, 5, 6]                # Set of states\n",
    "    action = [-1, 1]                         # Set of actions\n",
    "    Q = np.zeros((len(state), len(action)))  # Initial Q can be chosen arbitrarily\n",
    "    Qold = Q                                 # Save a backup to compare later\n",
    "    L = 15                                   # Number of iterations\n",
    "    gamma = 0.5                              # Discounting factor\n",
    "    epsilon = 0.001                          # Final error to stop the algorithm\n",
    "\n",
    "    # Deterministic Q-iteration algorithm\n",
    "    for l in range(1, L + 1):\n",
    "        print(f'iteration: {l}')\n",
    "        for ii in range(len(state)):\n",
    "            for jj in range(len(action)):\n",
    "                Q[ii, jj] = reward(state[ii], action[jj]) + gamma * Q[model(state[ii], action[jj]), jj]\n",
    "\n",
    "        if np.abs(np.sum(Q - Qold)) < epsilon:\n",
    "            print('Epsilon criteria satisfied!')\n",
    "            break\n",
    "        else:\n",
    "            # print(Q)                            # Show Q matrix in each iteration\n",
    "            Qold = Q\n",
    "\n",
    "    # Show the final Q matrix\n",
    "    print('Q matrix (optimal):')\n",
    "    print(Q)\n",
    "\n",
    "    C = np.argmax(Q, axis=1)                   # Finding the max values\n",
    "    print('Q(optimal):')\n",
    "    print(C)\n",
    "    print('Optimal Policy:')\n",
    "    print('*')\n",
    "    print([action[C[1]], action[C[2]], action[C[3]], action[C[4]]])\n",
    "    print('*')\n",
    "\n",
    "\n",
    "# This function is the transition model of the robot\n",
    "# The inputs are: the current state, and the chosen action\n",
    "# The output is the next state\n",
    "def model(x, u):\n",
    "    if 2 <= x <= 5:\n",
    "        return x + u\n",
    "    else:\n",
    "        return x\n",
    "\n",
    "\n",
    "# This function is the reward function for the task\n",
    "# The inputs are: the current state, and the chosen action\n",
    "# The output is the expected reward\n",
    "def reward(x, u):\n",
    "    if x == 5 and u == 1:\n",
    "        return 5\n",
    "    elif x == 2 and u == -1:\n",
    "        return 1\n",
    "    else:\n",
    "        return 0\n",
    "\n",
    "\n",
    "# Call the main function\n",
    "deterministic_robot_cleaning_v1()\n"
   ]
  }
 ],
 "metadata": {
  "kernelspec": {
   "display_name": "Python 3",
   "language": "python",
   "name": "python3"
  },
  "language_info": {
   "codemirror_mode": {
    "name": "ipython",
    "version": 3
   },
   "file_extension": ".py",
   "mimetype": "text/x-python",
   "name": "python",
   "nbconvert_exporter": "python",
   "pygments_lexer": "ipython3",
   "version": "3.8.10"
  },
  "orig_nbformat": 4
 },
 "nbformat": 4,
 "nbformat_minor": 2
}
