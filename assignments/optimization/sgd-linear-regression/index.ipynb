{
 "cells": [
  {
   "cell_type": "markdown",
   "metadata": {},
   "source": [
    "# Optimization algorithms for linear regression\n",
    "\n",
    "## Problem 1: Stochastic Gradient Descent (50 points)\n",
    "\n",
    "In class we covered the baseline stochastic gradient descent.  Using the [linear regression example from the class notes](https://pantelis.github.io/artificial-intelligence/aiml-common/lectures/regression/linear-regression/linear_regression.html), develop from scratch the baseline SGD algorithm. Feel free nto generate more examples than shown in . \n",
    "\n",
    "Clearly state the hyperparameters you used and present the loss vs epoch plot that demonstrates the convergence of the algorithm by plotting the final hypothesis. \n"
   ]
  },
  {
   "cell_type": "markdown",
   "metadata": {},
   "source": [
    "## Problem 2: SGD Enhancements (50 points)\n",
    "\n",
    "In this exercise you will implement some enhancements to the implementation of Problem 3 (the linear regression problem) that can improve the convergence speed of the algorithm. Implement from scratch the following enhancements and compare the convergence speed of each algorithm to the baseline SGD algorithm\n",
    "\n",
    "1. Momentum (15 points)\n",
    "2. Adam (15 points)\n",
    "\n",
    "Clearly state the hyperparameters you used and present the loss vs epoch plot that demonstrates the convergence of each algorithm and plotting the final hypothesis. Include the result of Problem 1 to compare their performance to the baseline SGD algorithm -you can include all compatible plots in the same figure.\n",
    "\n",
    "Note: You will find example implementations of the above algorithms in the https://d2l.ai/ book. You are free to use the code from the book as a reference but you should implement the algorithms from scratch."
   ]
  }
 ],
 "metadata": {
  "language_info": {
   "name": "python"
  }
 },
 "nbformat": 4,
 "nbformat_minor": 2
}
